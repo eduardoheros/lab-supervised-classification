{
  "nbformat": 4,
  "nbformat_minor": 0,
  "metadata": {
    "kernelspec": {
      "display_name": "Python 3",
      "language": "python",
      "name": "python3"
    },
    "language_info": {
      "codemirror_mode": {
        "name": "ipython",
        "version": 3
      },
      "file_extension": ".py",
      "mimetype": "text/x-python",
      "name": "python",
      "nbconvert_exporter": "python",
      "pygments_lexer": "ipython3",
      "version": "3.7.4"
    },
    "colab": {
      "name": "Supervised Classification.ipynb",
      "provenance": []
    }
  },
  "cells": [
    {
      "cell_type": "markdown",
      "metadata": {
        "id": "HUVIRgzUCHcU",
        "colab_type": "text"
      },
      "source": [
        "# Supervised classification\n",
        "\n",
        "In the data.csv there are letters (uppercases and lowercases) and numbers, 28x28 pixels in a row format.\n",
        "\n",
        "* First, you need to know which labels are which, meaning you need to visualize some data to realize which number labels represents a letter, or a number."
      ]
    },
    {
      "cell_type": "code",
      "metadata": {
        "id": "nQh-nWUTCHcV",
        "colab_type": "code",
        "colab": {}
      },
      "source": [
        "import requests\n",
        "from io import BytesIO\n",
        "from zipfile import ZipFile"
      ],
      "execution_count": 10,
      "outputs": []
    },
    {
      "cell_type": "code",
      "metadata": {
        "id": "AnWhhm84CHca",
        "colab_type": "code",
        "colab": {}
      },
      "source": [
        "url=\"https://github.com/eduardoheros/lab-supervised-classification/blob/master/data_all.zip?raw=true\"\n",
        "url_file=requests.get(url)"
      ],
      "execution_count": 16,
      "outputs": []
    },
    {
      "cell_type": "code",
      "metadata": {
        "id": "11Y0Mco0DvTy",
        "colab_type": "code",
        "colab": {}
      },
      "source": [
        "zipfile=ZipFile(BytesIO(url_file.content))"
      ],
      "execution_count": 19,
      "outputs": []
    },
    {
      "cell_type": "code",
      "metadata": {
        "id": "9PUitfYxHUrh",
        "colab_type": "code",
        "colab": {}
      },
      "source": [
        "data=zipfile.extractall()"
      ],
      "execution_count": 25,
      "outputs": []
    },
    {
      "cell_type": "code",
      "metadata": {
        "id": "qH7jDxr4JB_O",
        "colab_type": "code",
        "colab": {}
      },
      "source": [
        "data"
      ],
      "execution_count": 26,
      "outputs": []
    },
    {
      "cell_type": "markdown",
      "metadata": {
        "id": "5meMecy1CHce",
        "colab_type": "text"
      },
      "source": [
        "* Now, try to train a classifier model to predict the uppercases. Use every single model you know for classification."
      ]
    },
    {
      "cell_type": "code",
      "metadata": {
        "id": "KuH3WnsHCHcf",
        "colab_type": "code",
        "colab": {}
      },
      "source": [
        "# Your code here"
      ],
      "execution_count": null,
      "outputs": []
    },
    {
      "cell_type": "markdown",
      "metadata": {
        "id": "dPZaiKbBCHck",
        "colab_type": "text"
      },
      "source": [
        "* Try to do the same thing with lowercases."
      ]
    },
    {
      "cell_type": "code",
      "metadata": {
        "id": "6ykcoepuCHcl",
        "colab_type": "code",
        "colab": {}
      },
      "source": [
        "# Your code here"
      ],
      "execution_count": null,
      "outputs": []
    },
    {
      "cell_type": "markdown",
      "metadata": {
        "id": "el2u2iglCHcp",
        "colab_type": "text"
      },
      "source": [
        "* Try to do the same thing with numbers."
      ]
    },
    {
      "cell_type": "code",
      "metadata": {
        "id": "92nWexmRCHcq",
        "colab_type": "code",
        "colab": {}
      },
      "source": [
        "# Your code here"
      ],
      "execution_count": null,
      "outputs": []
    }
  ]
}